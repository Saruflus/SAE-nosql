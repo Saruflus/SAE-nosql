{
 "cells": [
  {
   "cell_type": "code",
   "execution_count": 1,
   "id": "7a172c17-0c57-45d2-81d9-10149dcc45cb",
   "metadata": {},
   "outputs": [],
   "source": [
    "# Importation des modules utilisés\n",
    "import sqlite3\n",
    "import pandas"
   ]
  },
  {
   "cell_type": "code",
   "execution_count": 2,
   "id": "3ebd3b21-1456-4a50-9bf2-d1053319297e",
   "metadata": {},
   "outputs": [],
   "source": [
    "# Création de la connexion\n",
    "conn = sqlite3.connect(\"ClassicModel.sqlite\")"
   ]
  },
  {
   "cell_type": "code",
   "execution_count": 3,
   "id": "3c55781e-c286-4b37-b8c5-07d296ebe5c5",
   "metadata": {},
   "outputs": [
    {
     "name": "stdout",
     "output_type": "stream",
     "text": [
      "     customerNumber                    customerName contactLastName  \\\n",
      "0               103               Atelier graphique         Schmitt   \n",
      "1               112              Signal Gift Stores            King   \n",
      "2               114      Australian Collectors, Co.        Ferguson   \n",
      "3               119               La Rochelle Gifts         Labrune   \n",
      "4               121              Baane Mini Imports      Bergulfsen   \n",
      "..              ...                             ...             ...   \n",
      "117             486    Motor Mint Distributors Inc.       Hernandez   \n",
      "118             487        Signal Collectibles Ltd.          Taylor   \n",
      "119             489  Double Decker Gift Stores, Ltd           Hardy   \n",
      "120             495            Diecast Collectables          Franco   \n",
      "121             496               Kelly's Gift Shop         Snowden   \n",
      "\n",
      "    contactFirstName           phone                  addressLine1  \\\n",
      "0             Carine      40.32.2555                54, rue Royale   \n",
      "1                Sue      7025551838               8489 Strong St.   \n",
      "2              Peter    03 9520 4555             636 St Kilda Road   \n",
      "3             Janine      40.67.8555  67, rue des Cinquante Otages   \n",
      "4              Jonas      07-98 9555        Erling Skakkes gate 78   \n",
      "..               ...             ...                           ...   \n",
      "117             Rosa      2155559857             11328 Douglas Av.   \n",
      "118              Sue      4155554312             2793 Furth Circle   \n",
      "119           Thomas  (171) 555-7555               120 Hanover Sq.   \n",
      "120          Valarie      6175552555                6251 Ingle Ln.   \n",
      "121             Tony   +64 9 5555500            Arenales 1938 3'A'   \n",
      "\n",
      "    addressLine2          city     state postalCode      country  \\\n",
      "0           NULL        Nantes      NULL      44000       France   \n",
      "1           NULL     Las Vegas        NV      83030          USA   \n",
      "2        Level 3     Melbourne  Victoria       3004    Australia   \n",
      "3           NULL        Nantes      NULL      44000       France   \n",
      "4           NULL       Stavern      NULL       4110       Norway   \n",
      "..           ...           ...       ...        ...          ...   \n",
      "117         NULL  Philadelphia        PA      71270          USA   \n",
      "118         NULL      Brisbane        CA      94217          USA   \n",
      "119         NULL        London      NULL    WA1 1DP           UK   \n",
      "120         NULL        Boston        MA      51003          USA   \n",
      "121         NULL      Auckland      NULL       None  New Zealand   \n",
      "\n",
      "    salesRepEmployeeNumber  creditLimit  \n",
      "0                     1370      21000.0  \n",
      "1                     1166      71800.0  \n",
      "2                     1611     117300.0  \n",
      "3                     1370     118200.0  \n",
      "4                     1504      81700.0  \n",
      "..                     ...          ...  \n",
      "117                   1323      72600.0  \n",
      "118                   1165      60300.0  \n",
      "119                   1501      43300.0  \n",
      "120                   1188      85100.0  \n",
      "121                   1612     110000.0  \n",
      "\n",
      "[122 rows x 13 columns]\n"
     ]
    }
   ],
   "source": [
    "# Récupération du contenu de Customers avec une requête SQL\n",
    "customers = pandas.read_sql_query(\"SELECT * FROM Customers;\", conn)\n",
    "print(customers)"
   ]
  },
  {
   "cell_type": "markdown",
   "id": "acd8481c-532b-4b5f-bad2-8cc700d6c0d8",
   "metadata": {},
   "source": [
    "# Lister les clients n’ayant jamais effecuté une commande ;"
   ]
  },
  {
   "cell_type": "code",
   "execution_count": 8,
   "id": "22e86316-f31d-4a80-a58e-e9775c25c855",
   "metadata": {},
   "outputs": [
    {
     "name": "stdout",
     "output_type": "stream",
     "text": [
      "                      customerName\n",
      "0               Havel & Zbyszek Co\n",
      "1           American Souvenirs Inc\n",
      "2                Porto Imports Co.\n",
      "3       Asian Shopping Network, Co\n",
      "4                  Natürlich Autos\n",
      "5                    ANG Resellers\n",
      "6         Messner Shopping Network\n",
      "7                Franken Gifts, Co\n",
      "8                BG&E Collectables\n",
      "9                 Schuyler Imports\n",
      "10                Der Hund Imports\n",
      "11       Cramer Spezialitäten, Ltd\n",
      "12           Asian Treasures, Inc.\n",
      "13            SAR Distributors, Co\n",
      "14                 Kommission Auto\n",
      "15          Lisboa Souveniers, Inc\n",
      "16           Precious Collectables\n",
      "17  Stuttgart Collectable Exchange\n",
      "18        Feuer Online Stores, Inc\n",
      "19                Warburg Exchange\n",
      "20             Anton Designs, Ltd.\n",
      "21             Mit Vergnügen & Co.\n",
      "22       Kremlin Collectables, Co.\n",
      "23              Raanan Stores, Inc\n"
     ]
    }
   ],
   "source": [
    "ex1 = pandas.read_sql_query(f\"\"\"SELECT customerName FROM Customers c \n",
    "                                LEFT JOIN Orders o \n",
    "                                ON c.customerNumber == o.customerNumber \n",
    "                                WHERE orderNumber is null;\"\"\", conn)\n",
    "print(ex1)"
   ]
  },
  {
   "cell_type": "markdown",
   "id": "93ddf22b-6147-404e-8ee4-df78b6fa1c86",
   "metadata": {},
   "source": [
    "# Pour chaque employé, le nombre de clients, le nombre de commandes et le montant total de celles-ci"
   ]
  },
  {
   "cell_type": "code",
   "execution_count": 10,
   "id": "a2fea8b5-8500-4611-9c54-4722b23309a4",
   "metadata": {},
   "outputs": [
    {
     "name": "stdout",
     "output_type": "stream",
     "text": [
      "    employeeNumber  nb_clients  nb_commandes     montant\n",
      "0             1002           0             0         NaN\n",
      "1             1056           0             0         NaN\n",
      "2             1076           0             0         NaN\n",
      "3             1088           0             0         NaN\n",
      "4             1102           0             0         NaN\n",
      "5             1143           0             0         NaN\n",
      "6             1165         331           331  1210228.57\n",
      "7             1166         114           114   378064.72\n",
      "8             1188         124           124   422257.44\n",
      "9             1216         152           152   565516.73\n",
      "10            1286         143           142   550395.19\n",
      "11            1323         211           211   725598.76\n",
      "12            1337         177           177   621798.01\n",
      "13            1370         396           396  1401412.66\n",
      "14            1401         272           272   959738.52\n",
      "15            1501         236           236   808462.37\n",
      "16            1504         220           220   795706.43\n",
      "17            1611         185           185   630623.10\n",
      "18            1612         185           185   651082.73\n",
      "19            1619           0             0         NaN\n",
      "20            1621         137           137   503957.58\n",
      "21            1625           0             0         NaN\n",
      "22            1702         115           114   421106.37\n"
     ]
    }
   ],
   "source": [
    "ex2 = pandas.read_sql_query(f\"\"\"SELECT e.employeeNumber, count(c.customerNumber) AS nb_clients,\n",
    "                                        count(o.orderNumber) AS nb_commandes,\n",
    "                                        sum(d.quantityOrdered * d.priceEach) AS montant\n",
    "                                FROM Employees e\n",
    "                                    LEFT JOIN Customers c ON e.employeeNumber == c.salesRepEmployeeNumber\n",
    "                                    LEFT JOIN Orders o ON c.customerNumber == o.customerNumber\n",
    "                                    LEFT JOIN OrderDetails d ON o.orderNumber == d.orderNumber\n",
    "                                GROUP BY 1\n",
    "                                ;\"\"\", conn)\n",
    "print(ex2)"
   ]
  },
  {
   "cell_type": "markdown",
   "id": "cbd49321-062c-405d-b6a2-5db5639c8d10",
   "metadata": {},
   "source": [
    "# Idem pour chaque bureau (nombre de clients, nombre de commandes et montant total), avec en plus le nombre de clients d’un pays différent, s’il y en a ;"
   ]
  },
  {
   "cell_type": "code",
   "execution_count": 47,
   "id": "ca95f531-3579-45fe-afc2-f8b6e6dcca98",
   "metadata": {},
   "outputs": [
    {
     "name": "stdout",
     "output_type": "stream",
     "text": [
      "  officeCode  nb_clients  client_etr  nb_commandes     montant\n",
      "0        1.0          12           0           445  1588293.29\n",
      "1        2.0          12           0           276   987774.17\n",
      "2        3.0          15           3           353  1275993.95\n",
      "3        4.0          29          17           959  3404055.56\n",
      "4        5.0           5           3           137   503957.58\n",
      "5        6.0          10           5           370  1281705.83\n",
      "6        7.0          17          12           456  1604168.80\n"
     ]
    }
   ],
   "source": [
    "ex3 = pandas.read_sql_query(f\"\"\"SELECT of.officeCode, \n",
    "                                        count(distinct c.customerNumber) AS nb_clients,\n",
    "                                        count(distinct CASE WHEN of.country != c.country THEN c.customerNumber END) AS client_etr,\n",
    "                                        count(o.orderNumber) AS nb_commandes,\n",
    "                                        sum(d.quantityOrdered * d.priceEach) AS montant\n",
    "                                FROM Offices of\n",
    "                                    LEFT JOIN Employees e ON of.officeCode == e.officeCode\n",
    "                                    LEFT JOIN Customers c ON e.employeeNumber == c.salesRepEmployeeNumber\n",
    "                                    LEFT JOIN Orders o ON c.customerNumber == o.customerNumber\n",
    "                                    LEFT JOIN OrderDetails d ON o.orderNumber == d.orderNumber\n",
    "                                GROUP BY 1\n",
    "                                ;\"\"\", conn)\n",
    "print(ex3)"
   ]
  },
  {
   "cell_type": "markdown",
   "id": "6f049fd3-123f-4d51-b153-df2422ccdaa4",
   "metadata": {},
   "source": [
    "# Pour chaque produit, donner le nombre de commandes, la quantité totale commandée, et le nombre de clients différents ;"
   ]
  },
  {
   "cell_type": "code",
   "execution_count": 14,
   "id": "80c49c39-4a28-4e0d-911e-8b71f8b7af6a",
   "metadata": {},
   "outputs": [
    {
     "name": "stdout",
     "output_type": "stream",
     "text": [
      "    productCode  nb_commandes  quant_tot  nb_clients\n",
      "0      S10_1678            28       1026          26\n",
      "1      S10_1949            28        961          27\n",
      "2      S10_2016            28        999          26\n",
      "3      S10_4698            28        985          25\n",
      "4      S10_4757            28       1000          27\n",
      "..          ...           ...        ...         ...\n",
      "104   S700_3505            27        952          22\n",
      "105   S700_3962            27        883          24\n",
      "106   S700_4002            28       1073          26\n",
      "107    S72_1253            28        960          27\n",
      "108    S72_3212            27        958          24\n",
      "\n",
      "[109 rows x 4 columns]\n"
     ]
    }
   ],
   "source": [
    "ex4 = pandas.read_sql_query(f\"\"\"SELECT d.productCode,\n",
    "                                        count(distinct o.orderNumber) AS nb_commandes,\n",
    "                                        sum(d.quantityOrdered) AS quant_tot,\n",
    "                                        count(distinct o.customerNumber) AS nb_clients\n",
    "                                FROM OrderDetails d\n",
    "                                    LEFT JOIN Orders o ON d.orderNumber == o.orderNumber\n",
    "                                GROUP BY 1\n",
    "                                ;\"\"\", conn)\n",
    "print(ex4)"
   ]
  },
  {
   "cell_type": "markdown",
   "id": "996bb0e4-3c70-4bc6-a81b-ab70b11c1ad1",
   "metadata": {},
   "source": [
    "# Donner le nombre de commande pour chaque pays du client, ainsi que le montant total des commandes et le montant total payé : on veut conserver les clients n’ayant jamais commandé dans le résultat final ;"
   ]
  },
  {
   "cell_type": "code",
   "execution_count": 32,
   "id": "0c54ef31-3277-4c8c-9a56-ba3997411da2",
   "metadata": {},
   "outputs": [
    {
     "name": "stdout",
     "output_type": "stream",
     "text": [
      "         country  nb_commandes  montant_commande  montant_paye\n",
      "0      Australia            19        2182269.38    2352253.84\n",
      "1        Austria             7         606187.59     487494.02\n",
      "2        Belgium             7         283705.44     333442.11\n",
      "3         Canada             7         448157.12     421283.00\n",
      "4        Denmark             7         781357.50     796334.75\n",
      "5        Finland             9         988745.73     988745.73\n",
      "6         France            37        3160296.75    3324693.52\n",
      "7        Germany             7         576293.44     576293.44\n",
      "8      Hong Kong             2          48784.36      97568.72\n",
      "9        Ireland             2         115512.86     115512.86\n",
      "10        Israel             0               NaN           NaN\n",
      "11         Italy            10         945208.16     963279.67\n",
      "12         Japan             6         496898.36     570898.86\n",
      "13   Netherlands             0               NaN           NaN\n",
      "14   New Zealand            15        1736137.04    1668057.12\n",
      "15        Norway             9         848125.78     959766.06\n",
      "16   Philippines             3         282047.19     282047.19\n",
      "17        Poland             0               NaN           NaN\n",
      "18      Portugal             0               NaN           NaN\n",
      "19        Russia             0               NaN           NaN\n",
      "20     Singapore             9        1038454.91    1316593.00\n",
      "21  South Africa             0               NaN           NaN\n",
      "22         Spain            36       12665636.19   21398341.40\n",
      "23        Sweden             7         554287.75     705797.51\n",
      "24   Switzerland             2         235427.12     235427.12\n",
      "25            UK            13        1204373.23    1199973.07\n",
      "26           USA           112       14228729.12   19283419.83\n"
     ]
    }
   ],
   "source": [
    "ex5 = pandas.read_sql_query(f\"\"\"\n",
    "    SELECT c.country,\n",
    "           COUNT(DISTINCT o.orderNumber) AS nb_commandes,\n",
    "           SUM(d.total_montant_commande) AS montant_commande,\n",
    "           SUM(p.amount) AS montant_paye\n",
    "    FROM Customers c\n",
    "    LEFT JOIN Orders o ON c.customerNumber = o.customerNumber\n",
    "    LEFT JOIN (\n",
    "        SELECT orderNumber, \n",
    "               SUM(quantityOrdered * priceEach) AS total_montant_commande\n",
    "        FROM OrderDetails\n",
    "        GROUP BY orderNumber\n",
    "    ) d ON o.orderNumber = d.orderNumber\n",
    "    LEFT JOIN Payments p ON c.customerNumber = p.customerNumber\n",
    "    GROUP BY c.country;\n",
    "    \"\"\", conn)\n",
    "print(ex5)"
   ]
  },
  {
   "cell_type": "markdown",
   "id": "bfcaa1c8-dd7e-45e9-8ec5-c428510d2a12",
   "metadata": {},
   "source": [
    "# On veut la table de contigence du nombre de commande entre la ligne de produits et le pays du client ;"
   ]
  },
  {
   "cell_type": "code",
   "execution_count": 38,
   "id": "4db25337-501f-4f5b-b684-81febec318c0",
   "metadata": {},
   "outputs": [
    {
     "name": "stdout",
     "output_type": "stream",
     "text": [
      "       country       productLine  nb_commandes\n",
      "0    Australia      Classic Cars            12\n",
      "1    Australia       Motorcycles             6\n",
      "2    Australia            Planes             5\n",
      "3    Australia             Ships             2\n",
      "4    Australia            Trains             1\n",
      "..         ...               ...           ...\n",
      "121        USA            Planes            22\n",
      "122        USA             Ships            25\n",
      "123        USA            Trains            15\n",
      "124        USA  Trucks and Buses            27\n",
      "125        USA      Vintage Cars            67\n",
      "\n",
      "[126 rows x 3 columns]\n"
     ]
    }
   ],
   "source": [
    "ex6 = pandas.read_sql_query(f\"\"\"\n",
    "    SELECT c.country, \n",
    "           p.productLine, \n",
    "           COUNT(DISTINCT o.orderNumber) AS nb_commandes\n",
    "    FROM Customers c\n",
    "    JOIN Orders o ON c.customerNumber = o.customerNumber\n",
    "    JOIN OrderDetails d ON o.orderNumber = d.orderNumber\n",
    "    JOIN Products p ON d.productCode = p.productCode\n",
    "    GROUP BY c.country, p.productLine\n",
    "    ORDER BY c.country, p.productLine;\n",
    "    \"\"\", conn)\n",
    "\n",
    "print(ex6)"
   ]
  },
  {
   "cell_type": "code",
   "execution_count": 40,
   "id": "0554771e-a652-4294-8465-be7fd662dece",
   "metadata": {},
   "outputs": [
    {
     "name": "stdout",
     "output_type": "stream",
     "text": [
      "country           Australia  Austria  Belgium  Canada  Denmark  Finland  \\\n",
      "productLine                                                               \n",
      "Classic Cars           12.0      5.0      2.0     6.0      5.0      9.0   \n",
      "Motorcycles             6.0      1.0      0.0     1.0      0.0      2.0   \n",
      "Planes                  5.0      2.0      1.0     2.0      1.0      2.0   \n",
      "Ships                   2.0      1.0      3.0     2.0      3.0      2.0   \n",
      "Trains                  1.0      0.0      3.0     0.0      2.0      1.0   \n",
      "Trucks and Buses        5.0      1.0      0.0     3.0      1.0      2.0   \n",
      "Vintage Cars           14.0      4.0      5.0     5.0      3.0      2.0   \n",
      "\n",
      "country           France  Germany  Hong Kong  Ireland  ...  Japan  \\\n",
      "productLine                                            ...          \n",
      "Classic Cars        23.0      4.0        0.0      1.0  ...    3.0   \n",
      "Motorcycles         15.0      2.0        1.0      1.0  ...    2.0   \n",
      "Planes               4.0      1.0        2.0      1.0  ...    2.0   \n",
      "Ships                5.0      1.0        0.0      0.0  ...    2.0   \n",
      "Trains               4.0      1.0        0.0      1.0  ...    1.0   \n",
      "Trucks and Buses     8.0      2.0        0.0      1.0  ...    1.0   \n",
      "Vintage Cars        15.0      3.0        2.0      1.0  ...    5.0   \n",
      "\n",
      "country           New Zealand  Norway  Philippines  Singapore  Spain  Sweden  \\\n",
      "productLine                                                                    \n",
      "Classic Cars              9.0     4.0          2.0        7.0   22.0     6.0   \n",
      "Motorcycles               5.0     3.0          2.0        1.0    6.0     1.0   \n",
      "Planes                    4.0     2.0          1.0        0.0    6.0     1.0   \n",
      "Ships                     3.0     0.0          0.0        1.0    8.0     2.0   \n",
      "Trains                    2.0     1.0          0.0        2.0    8.0     1.0   \n",
      "Trucks and Buses          1.0     2.0          0.0        4.0   11.0     2.0   \n",
      "Vintage Cars              9.0     4.0          1.0        4.0   22.0     4.0   \n",
      "\n",
      "country           Switzerland    UK   USA  \n",
      "productLine                                \n",
      "Classic Cars              2.0  10.0  71.0  \n",
      "Motorcycles               0.0   1.0  27.0  \n",
      "Planes                    0.0   3.0  22.0  \n",
      "Ships                     0.0   5.0  25.0  \n",
      "Trains                    0.0   2.0  15.0  \n",
      "Trucks and Buses          0.0   1.0  27.0  \n",
      "Vintage Cars              0.0  10.0  67.0  \n",
      "\n",
      "[7 rows x 21 columns]\n"
     ]
    }
   ],
   "source": [
    "# Créer la table de contingence avec pivot_table\n",
    "contingency_table = ex6.pivot_table(index='productLine', columns='country', values='nb_commandes', fill_value=0)\n",
    "\n",
    "# Afficher le résultat\n",
    "print(contingency_table)"
   ]
  },
  {
   "cell_type": "markdown",
   "id": "a000f165-c640-4ff3-8cf7-fba0bade7e22",
   "metadata": {},
   "source": [
    "# On veut la même table croisant la ligne de produits et le pays du client, mais avec le montant total payé dans chaque cellule ;"
   ]
  },
  {
   "cell_type": "code",
   "execution_count": 48,
   "id": "0d82a9d5-7469-48b0-a016-4eb8860b3ba6",
   "metadata": {},
   "outputs": [
    {
     "name": "stdout",
     "output_type": "stream",
     "text": [
      "       country       productLine     montant\n",
      "0    Australia      Classic Cars   566642.90\n",
      "1    Australia       Motorcycles   516429.53\n",
      "2    Australia            Planes   412646.77\n",
      "3    Australia             Ships   157812.92\n",
      "4    Australia            Trains    59469.12\n",
      "..         ...               ...         ...\n",
      "121        USA            Planes  1524097.51\n",
      "122        USA             Ships  1933780.17\n",
      "123        USA            Trains  1653147.49\n",
      "124        USA  Trucks and Buses  2306979.48\n",
      "125        USA      Vintage Cars  3162135.35\n",
      "\n",
      "[126 rows x 3 columns]\n"
     ]
    }
   ],
   "source": [
    "ex7 = pandas.read_sql_query(f\"\"\"\n",
    "    SELECT c.country, \n",
    "           p.productLine, \n",
    "           sum(DISTINCT pa.amount) AS montant\n",
    "    FROM Customers c\n",
    "    JOIN Orders o ON c.customerNumber = o.customerNumber\n",
    "    JOIN OrderDetails d ON o.orderNumber = d.orderNumber\n",
    "    JOIN Products p ON d.productCode = p.productCode\n",
    "    JOIN Payments pa ON c.customerNumber = pa.customerNumber\n",
    "    GROUP BY c.country, p.productLine\n",
    "    ORDER BY c.country, p.productLine;\n",
    "    \"\"\", conn)\n",
    "\n",
    "print(ex7)"
   ]
  },
  {
   "cell_type": "code",
   "execution_count": 49,
   "id": "96d5d33b-4ce5-4f9d-87d5-3e73aa66c6af",
   "metadata": {},
   "outputs": [
    {
     "name": "stdout",
     "output_type": "stream",
     "text": [
      "country           Australia    Austria    Belgium     Canada    Denmark  \\\n",
      "productLine                                                               \n",
      "Classic Cars      566642.90  134939.48  100000.67  190385.59  219624.28   \n",
      "Motorcycles       516429.53   82675.58       0.00   74634.85       0.00   \n",
      "Planes            412646.77   82675.58   33440.10   74634.85  119028.73   \n",
      "Ships             157812.92   82675.58  100000.67  115146.67  219624.28   \n",
      "Trains             59469.12       0.00  100000.67       0.00  219624.28   \n",
      "Trucks and Buses  516429.53   52263.90       0.00  115750.74  100595.55   \n",
      "Vintage Cars      566642.90  134939.48  100000.67  190385.59  219624.28   \n",
      "\n",
      "country             Finland      France    Germany  Hong Kong   Ireland  ...  \\\n",
      "productLine                                                              ...   \n",
      "Classic Cars      329581.91  1017384.70  185478.17       0.00  57756.43  ...   \n",
      "Motorcycles       225211.53   694429.58  100306.58   48784.36  57756.43  ...   \n",
      "Planes            215620.76   341871.63   34993.92   48784.36  57756.43  ...   \n",
      "Ships             215620.76   484745.88   34993.92       0.00      0.00  ...   \n",
      "Trains            113961.15   453691.21   85171.59       0.00  57756.43  ...   \n",
      "Trucks and Buses  218331.53   654865.76   85171.59       0.00  57756.43  ...   \n",
      "Vintage Cars      215620.76   869228.43  120165.51   48784.36  57756.43  ...   \n",
      "\n",
      "country               Japan  New Zealand     Norway  Philippines  Singapore  \\\n",
      "productLine                                                                   \n",
      "Classic Cars      176527.25    419845.44  307463.70     94015.73  285900.83   \n",
      "Motorcycles       176527.25    419845.44  228239.47     94015.73  172989.68   \n",
      "Planes            176527.25    355132.09  190864.51     94015.73       0.00   \n",
      "Ships             108922.18    294135.61       0.00         0.00  172989.68   \n",
      "Trains            108922.18    221814.49  116599.19         0.00  172989.68   \n",
      "Trucks and Buses  108922.18    125709.83  116599.19         0.00  285900.83   \n",
      "Vintage Cars      176527.25    419845.44  307463.70     94015.73  285900.83   \n",
      "\n",
      "country                Spain     Sweden  Switzerland         UK         USA  \n",
      "productLine                                                                  \n",
      "Classic Cars      1087510.36  210014.21    117713.56  438077.65  3329471.56  \n",
      "Motorcycles        862529.41  134259.33         0.00   77205.46  2299661.62  \n",
      "Planes             862529.41  134259.33         0.00  203064.38  1524097.51  \n",
      "Ships              912171.46  210014.21         0.00  360872.19  1933780.17  \n",
      "Trains             897416.80   75754.88         0.00  236048.65  1653147.49  \n",
      "Trucks and Buses   968390.03  210014.21         0.00   88804.50  2306979.48  \n",
      "Vintage Cars      1087510.36  210014.21         0.00  438077.65  3162135.35  \n",
      "\n",
      "[7 rows x 21 columns]\n"
     ]
    }
   ],
   "source": [
    "# Créer la table de contingence avec pivot_table\n",
    "contingency_table2 = ex7.pivot_table(index='productLine', columns='country', values='montant', fill_value=0)\n",
    "\n",
    "# Afficher le résultat\n",
    "print(contingency_table2)"
   ]
  },
  {
   "cell_type": "markdown",
   "id": "39f6fd62-089e-4bc9-8cb1-747b9983a7e5",
   "metadata": {},
   "source": [
    "# Donner les 10 produits pour lesquels la marge moyenne est la plus importante (cf buyPrice et priceEach) ;"
   ]
  },
  {
   "cell_type": "code",
   "execution_count": 53,
   "id": "3ad34d29-2bfd-4202-bdb3-94a86c1a907d",
   "metadata": {},
   "outputs": [
    {
     "name": "stdout",
     "output_type": "stream",
     "text": [
      "  productCode                           productName      marge\n",
      "0    S10_1949              1952 Alpine Renault 1300  99.006429\n",
      "1    S10_4698  2003 Harley-Davidson Eagle Drag Bike  95.235000\n",
      "2    S18_3232           1992 Ferrari 360 Spider red  83.334906\n",
      "3    S12_2823                      2002 Suzuki XREO  83.201429\n",
      "4    S18_2795                1928 Mercedes-Benz SSK  82.696786\n",
      "5    S12_1108                     2001 Ferrari Enzo  81.043704\n",
      "6    S12_3891                      1969 Ford Falcon  77.335926\n",
      "7    S18_3685        1948 Porsche Type 356 Roadster  72.636800\n",
      "8    S18_2870          1999 Indy 500 Monte Carlo SS  71.794400\n",
      "9    S18_1749              1917 Grand Touring Sedan  70.432800\n"
     ]
    }
   ],
   "source": [
    "ex8 = pandas.read_sql_query(f\"\"\"\n",
    "    SELECT distinct p.productCode, p.productName, \n",
    "        AVG(d.priceEach - p.buyPrice) AS marge\n",
    "    FROM Products p\n",
    "        JOIN OrderDetails d ON p.productCode = d.productCode\n",
    "    GROUP BY 1, 2\n",
    "    ORDER BY 3 DESC\n",
    "    LIMIT 10;\n",
    "    \"\"\", conn)\n",
    "\n",
    "print(ex8)"
   ]
  },
  {
   "cell_type": "markdown",
   "id": "4885d8f4-3eb5-4a3c-8247-3792814ff048",
   "metadata": {},
   "source": [
    "# Lister les produits (avec le nom et le code du client) qui ont été vendus à perte"
   ]
  },
  {
   "cell_type": "code",
   "execution_count": 60,
   "id": "1873edd8-1fe1-422c-8aec-437ce2afa129",
   "metadata": {},
   "outputs": [
    {
     "name": "stdout",
     "output_type": "stream",
     "text": [
      "                              productName  customerNumber  \\\n",
      "0                  1962 LanciaA Delta 16V             363   \n",
      "1                  1962 LanciaA Delta 16V             276   \n",
      "2                  1962 LanciaA Delta 16V             276   \n",
      "3          1998 Chrysler Plymouth Prowler             124   \n",
      "4          1998 Chrysler Plymouth Prowler             323   \n",
      "..                                    ...             ...   \n",
      "74                 1999 Yamaha Speed Boat             145   \n",
      "75              1969 Chevrolet Camaro Z28             187   \n",
      "76  1969 Harley Davidson Ultimate Chopper             119   \n",
      "77                     1949 Jaguar XK 120             141   \n",
      "78                     1934 Ford V8 Coupe             363   \n",
      "\n",
      "                    customerName  buyPrice  priceEach  \n",
      "0   Online Diecast Creations Co.    103.42      61.99  \n",
      "1        Anna's Decorations, Ltd    103.42      65.63  \n",
      "2        Anna's Decorations, Ltd    103.42      46.90  \n",
      "3   Mini Gifts Distributors Ltd.    101.51      88.00  \n",
      "4     Down Under Souveniers, Inc    101.51      69.81  \n",
      "..                           ...       ...        ...  \n",
      "74      Danish Wholesale Imports     51.61      45.86  \n",
      "75                AV Stores, Co.     50.51      34.19  \n",
      "76             La Rochelle Gifts     48.81      34.91  \n",
      "77        Euro+ Shopping Channel     47.25      37.50  \n",
      "78  Online Diecast Creations Co.     34.35      29.87  \n",
      "\n",
      "[79 rows x 5 columns]\n"
     ]
    }
   ],
   "source": [
    "ex9 = pandas.read_sql_query(f\"\"\"\n",
    "    SELECT p.productName, c.customerNumber, c.customerName,\n",
    "            p.buyPrice, d.priceEach\n",
    "    FROM Products p\n",
    "        JOIN OrderDetails d ON p.productCode = d.productCode\n",
    "        JOIN Orders o ON d.orderNumber = o.orderNumber\n",
    "        JOIN Customers c ON c.customerNumber = o.customerNumber\n",
    "    WHERE p.buyPrice > d.priceEach\n",
    "    ORDER BY buyPrice desc\n",
    "    \"\"\", conn)\n",
    "\n",
    "print(ex9)"
   ]
  },
  {
   "cell_type": "markdown",
   "id": "918b43e8-9186-4710-999a-3113d2ca84b8",
   "metadata": {},
   "source": [
    "# (bonus) Lister les clients pour lesquels le montant total payé est inférieur aux montants totals des achats"
   ]
  },
  {
   "cell_type": "code",
   "execution_count": 75,
   "id": "7081a781-e436-4215-b75b-6c58b004bf4d",
   "metadata": {},
   "outputs": [
    {
     "name": "stdout",
     "output_type": "stream",
     "text": [
      "                   customerName  montant_paye  montant_achat\n",
      "0                AV Stores, Co.    8048198.31      473423.43\n",
      "1                  Alpha Cognac    1409768.80      211465.32\n",
      "2            Amica Models & Co.    2447048.76      188234.52\n",
      "3       Anna's Decorations, Ltd    7083821.98      615984.52\n",
      "4             Atelier graphique     169259.72       72539.88\n",
      "..                          ...           ...            ...\n",
      "93              Vida Sport, Ltd    3649120.36      235427.12\n",
      "94              Vitachrome Inc.    2201031.50      264123.78\n",
      "95     Volvo Model Replicas, Co    1439342.72      151509.76\n",
      "96  West Coast Collectables Co.     599100.32       92169.28\n",
      "97            giftsbymail.co.uk    2034261.84      156481.68\n",
      "\n",
      "[98 rows x 3 columns]\n"
     ]
    }
   ],
   "source": [
    "ex10 = pandas.read_sql_query(f\"\"\"\n",
    "    SELECT c.customerName,\n",
    "        sum(p.amount) AS montant_paye,\n",
    "        sum(d.priceEach * d.quantityOrdered) AS montant_achat\n",
    "    FROM Customers c\n",
    "        JOIN Payments p ON c.customerNumber = p.customerNumber\n",
    "        JOIN Orders o ON c.customerNumber = o.customerNumber\n",
    "        JOIN OrderDetails d ON o.orderNumber = d.orderNumber\n",
    "    GROUP BY 1\n",
    "    HAVING montant_paye > montant_achat\n",
    ";\n",
    "    \"\"\", conn)\n",
    "\n",
    "print(ex10)"
   ]
  },
  {
   "cell_type": "code",
   "execution_count": 74,
   "id": "a8b7df81-90d2-4de3-bbea-2b03ccf9e512",
   "metadata": {},
   "outputs": [
    {
     "name": "stdout",
     "output_type": "stream",
     "text": [
      "Empty DataFrame\n",
      "Columns: [customerName, montant_paye, montant_achat]\n",
      "Index: []\n"
     ]
    }
   ],
   "source": [
    "ex10 = pandas.read_sql_query(f\"\"\"\n",
    "    SELECT c.customerName,\n",
    "       SUM(p.amount) AS montant_paye,\n",
    "       SUM(d.priceEach * d.quantityOrdered) AS montant_achat\n",
    "FROM Customers c\n",
    "JOIN Payments p ON c.customerNumber = p.customerNumber\n",
    "JOIN Orders o ON c.customerNumber = o.customerNumber\n",
    "JOIN OrderDetails d ON o.orderNumber = d.orderNumber\n",
    "GROUP BY c.customerName\n",
    "HAVING montant_paye < montant_achat;\n",
    "\n",
    "    \"\"\", conn)\n",
    "\n",
    "print(ex10)"
   ]
  }
 ],
 "metadata": {
  "kernelspec": {
   "display_name": "Python 3 (ipykernel)",
   "language": "python",
   "name": "python3"
  },
  "language_info": {
   "codemirror_mode": {
    "name": "ipython",
    "version": 3
   },
   "file_extension": ".py",
   "mimetype": "text/x-python",
   "name": "python",
   "nbconvert_exporter": "python",
   "pygments_lexer": "ipython3",
   "version": "3.11.7"
  }
 },
 "nbformat": 4,
 "nbformat_minor": 5
}
